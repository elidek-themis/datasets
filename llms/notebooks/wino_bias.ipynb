{
 "cells": [
  {
   "cell_type": "code",
   "execution_count": 197,
   "id": "64cf35bd",
   "metadata": {},
   "outputs": [],
   "source": [
    "from datasets import load_dataset\n",
    "from pathlib import Path\n",
    "\n",
    "root_path = Path().resolve().parent\n",
    "data_path = root_path/\"wino_bias\""
   ]
  },
  {
   "cell_type": "code",
   "execution_count": 196,
   "id": "ef27820f",
   "metadata": {},
   "outputs": [],
   "source": [
    "ds_type_1 = load_dataset(\"chriskara/wino_bias_cloze\", name=\"type_1\", split=\"test\")\n",
    "ds_type_1.to_pandas().to_csv(data_path/\"data\"/\"type_1.csv\", index=False)"
   ]
  },
  {
   "cell_type": "code",
   "execution_count": 199,
   "id": "c14c3b2d",
   "metadata": {},
   "outputs": [],
   "source": [
    "ds_type_2 = load_dataset(\"chriskara/wino_bias_cloze\", name=\"type_2\", split=\"test\")\n",
    "ds_type_2.to_pandas().to_csv(data_path/\"data\"/\"type_2.csv\", index=False)"
   ]
  }
 ],
 "metadata": {
  "kernelspec": {
   "display_name": "themis-llm (3.12.7)",
   "language": "python",
   "name": "python3"
  },
  "language_info": {
   "codemirror_mode": {
    "name": "ipython",
    "version": 3
   },
   "file_extension": ".py",
   "mimetype": "text/x-python",
   "name": "python",
   "nbconvert_exporter": "python",
   "pygments_lexer": "ipython3",
   "version": "3.12.7"
  }
 },
 "nbformat": 4,
 "nbformat_minor": 5
}
